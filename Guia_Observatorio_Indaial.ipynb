{
 "cells": [
  {
   "cell_type": "markdown",
   "id": "d513bd9d",
   "metadata": {},
   "source": [
    "# <font color = green> 1. Conhecendo o Problema\n",
    "    \n",
    "    \n",
    "* Retirar dados de uma prefeitura\n",
    "* estudar proposições"
   ]
  },
  {
   "cell_type": "markdown",
   "id": "5788ae7d",
   "metadata": {},
   "source": [
    "# 2. Webscraping"
   ]
  },
  {
   "cell_type": "code",
   "execution_count": 8,
   "id": "15553133",
   "metadata": {},
   "outputs": [],
   "source": [
    "import urllib.request as urllib_request\n",
    "from urllib.request import urlopen\n",
    "import bs4"
   ]
  },
  {
   "cell_type": "code",
   "execution_count": null,
   "id": "2cf20a95",
   "metadata": {},
   "outputs": [],
   "source": []
  },
  {
   "cell_type": "code",
   "execution_count": null,
   "id": "995a5abc",
   "metadata": {},
   "outputs": [],
   "source": []
  },
  {
   "cell_type": "code",
   "execution_count": null,
   "id": "e3a2e44d",
   "metadata": {},
   "outputs": [],
   "source": []
  }
 ],
 "metadata": {
  "kernelspec": {
   "display_name": "Python 3 (ipykernel)",
   "language": "python",
   "name": "python3"
  },
  "language_info": {
   "codemirror_mode": {
    "name": "ipython",
    "version": 3
   },
   "file_extension": ".py",
   "mimetype": "text/x-python",
   "name": "python",
   "nbconvert_exporter": "python",
   "pygments_lexer": "ipython3",
   "version": "3.9.13"
  }
 },
 "nbformat": 4,
 "nbformat_minor": 5
}
