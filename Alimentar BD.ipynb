{
 "cells": [
  {
   "cell_type": "code",
   "execution_count": 14,
   "id": "294cb8aa",
   "metadata": {},
   "outputs": [],
   "source": [
    "# importando as bibliotecas\n",
    "\n",
    "import time\n",
    "import pandas as pd\n",
    "import pyodbc\n",
    "from urllib.error import URLError, HTTPError\n",
    "from urllib.request import Request, urlopen\n",
    "\n",
    "import bs4"
   ]
  },
  {
   "cell_type": "code",
   "execution_count": 15,
   "id": "a11e8f6d",
   "metadata": {},
   "outputs": [],
   "source": [
    "# informando o agent\n",
    "\n",
    "user_agent = 'Mozilla/5.0 (Windows NT 10.0; Win64; x64) AppleWebKit/537.36 (KHTML, like Gecko) Chrome/110.0.0.0 Safari/537.36 Edg/110.0.1587.63'\n",
    "headers = {'User-Agent': user_agent}"
   ]
  },
  {
   "cell_type": "code",
   "execution_count": 16,
   "id": "c1a41750",
   "metadata": {},
   "outputs": [],
   "source": [
    "# função para chamar a página WEB\n",
    "def ConsultaWebB(url):\n",
    "    try:\n",
    "        req = Request(url, headers = headers)\n",
    "        response = urlopen(req)\n",
    "        return response.read()\n",
    "    except:\n",
    "        pass\n",
    "    \n",
    "# função para pegar a página e transformar em um objeto\n",
    "def captura_html_pagina(url):\n",
    "    html = ConsultaWebB(url)\n",
    "    soup = bs4.BeautifulSoup(html, 'html.parser')\n",
    "    return soup\n",
    "\n",
    "# função para capturar as informações da \"tabelinha cabeçalho da página\"\n",
    "def Cabecalho(html):\n",
    "    dt = html.findAll('dt')\n",
    "    dd = html.findAll('dd')\n",
    "    dic = {}\n",
    "    for i in range(len(dt)):\n",
    "        x = dt[i].get_text()\n",
    "        y = dd[i].get_text()\n",
    "        dic[x] = y\n",
    "    return dic\n",
    "\n",
    "# função para capturar o conteúdo da página\n",
    "def Conteudo(proposicao, ano):\n",
    "    url = 'https://www.legislador.com.br//LegisladorWEB.ASP?WCI=ProposicaoTexto&ID=3&TPProposicao=1&nrProposicao='+str(proposicao)+'&aaProposicao=' + str(ano)\n",
    "    html = captura_html_pagina(url)\n",
    "    dic = Cabecalho(html)\n",
    "    dic['Proposição'] = proposicao\n",
    "    dic['Ano'] = ano\n",
    "    dic['Texto'] = html.p.get_text()\n",
    "    return dic\n",
    "\n",
    "def TabelaResultados(iniciar_em, quantidade, ano, erros_admissiveis, segundos_espera):\n",
    "    ultima_consulta  = iniciar_em + quantidade - 1\n",
    "    \n",
    "    erros = 0\n",
    "    i = 1\n",
    "    lista = []\n",
    "    \n",
    "    while iniciar_em <= ultima_consulta and erros <= erros_admissiveis:\n",
    "        \n",
    "        try:\n",
    "            x = Conteudo(iniciar_em,ano)\n",
    "            lista += [Conteudo(iniciar_em, ano)]\n",
    "        except:\n",
    "            erros += 1\n",
    "            pass\n",
    "        \n",
    "        time.sleep(segundos_espera)\n",
    "        \n",
    "        iniciar_em += 1\n",
    "        i+= 1\n",
    "    return pd.DataFrame(lista)"
   ]
  },
  {
   "cell_type": "code",
   "execution_count": 17,
   "id": "c694a3c3",
   "metadata": {},
   "outputs": [],
   "source": [
    "teste = TabelaResultados(401,4,2021,2,0.2)"
   ]
  },
  {
   "cell_type": "code",
   "execution_count": 18,
   "id": "f345fb4e",
   "metadata": {},
   "outputs": [
    {
     "data": {
      "text/html": [
       "<div>\n",
       "<style scoped>\n",
       "    .dataframe tbody tr th:only-of-type {\n",
       "        vertical-align: middle;\n",
       "    }\n",
       "\n",
       "    .dataframe tbody tr th {\n",
       "        vertical-align: top;\n",
       "    }\n",
       "\n",
       "    .dataframe thead th {\n",
       "        text-align: right;\n",
       "    }\n",
       "</style>\n",
       "<table border=\"1\" class=\"dataframe\">\n",
       "  <thead>\n",
       "    <tr style=\"text-align: right;\">\n",
       "      <th></th>\n",
       "      <th>Reunião</th>\n",
       "      <th>Deliberação</th>\n",
       "      <th>Situação</th>\n",
       "      <th>Assunto</th>\n",
       "      <th>Autor</th>\n",
       "      <th>Proposição</th>\n",
       "      <th>Ano</th>\n",
       "      <th>Texto</th>\n",
       "    </tr>\n",
       "  </thead>\n",
       "  <tbody>\n",
       "    <tr>\n",
       "      <th>0</th>\n",
       "      <td>15/03/2021</td>\n",
       "      <td>15/03/2021</td>\n",
       "      <td>Proposição Aprovada</td>\n",
       "      <td>Limpeza, Macadamização, Patrolamento, Retifica...</td>\n",
       "      <td>Vereador Roger Michel Knipers.</td>\n",
       "      <td>401</td>\n",
       "      <td>2021</td>\n",
       "      <td>O vereador abaixo firmado requer, após ouvido ...</td>\n",
       "    </tr>\n",
       "    <tr>\n",
       "      <th>1</th>\n",
       "      <td>15/03/2021</td>\n",
       "      <td>15/03/2021</td>\n",
       "      <td>Proposição Aprovada</td>\n",
       "      <td>Manutenção de via pública</td>\n",
       "      <td>Vereador Ana Paula Reiter.</td>\n",
       "      <td>402</td>\n",
       "      <td>2021</td>\n",
       "      <td>A vereadora abaixo firmada requer, após ouvido...</td>\n",
       "    </tr>\n",
       "    <tr>\n",
       "      <th>2</th>\n",
       "      <td>18/03/2021</td>\n",
       "      <td>NaN</td>\n",
       "      <td>Entrada na Ordem do Dia</td>\n",
       "      <td>Manutenção de via pública</td>\n",
       "      <td>Vereador Jonas Luiz de Lima.</td>\n",
       "      <td>403</td>\n",
       "      <td>2021</td>\n",
       "      <td>O Vereador abaixo firmado requer, após ouvido ...</td>\n",
       "    </tr>\n",
       "    <tr>\n",
       "      <th>3</th>\n",
       "      <td>18/03/2021</td>\n",
       "      <td>NaN</td>\n",
       "      <td>Entrada na Ordem do Dia</td>\n",
       "      <td>Limpeza, Macadamização, Patrolamento, Retifica...</td>\n",
       "      <td>Vereador Flávio Augusto Ferri Molinari.</td>\n",
       "      <td>404</td>\n",
       "      <td>2021</td>\n",
       "      <td>O vereador que está subscreve, no uso das atri...</td>\n",
       "    </tr>\n",
       "  </tbody>\n",
       "</table>\n",
       "</div>"
      ],
      "text/plain": [
       "      Reunião Deliberação                 Situação  \\\n",
       "0  15/03/2021  15/03/2021      Proposição Aprovada   \n",
       "1  15/03/2021  15/03/2021      Proposição Aprovada   \n",
       "2  18/03/2021         NaN  Entrada na Ordem do Dia   \n",
       "3  18/03/2021         NaN  Entrada na Ordem do Dia   \n",
       "\n",
       "                                             Assunto  \\\n",
       "0  Limpeza, Macadamização, Patrolamento, Retifica...   \n",
       "1                          Manutenção de via pública   \n",
       "2                          Manutenção de via pública   \n",
       "3  Limpeza, Macadamização, Patrolamento, Retifica...   \n",
       "\n",
       "                                     Autor  Proposição   Ano  \\\n",
       "0           Vereador Roger Michel Knipers.         401  2021   \n",
       "1               Vereador Ana Paula Reiter.         402  2021   \n",
       "2             Vereador Jonas Luiz de Lima.         403  2021   \n",
       "3  Vereador Flávio Augusto Ferri Molinari.         404  2021   \n",
       "\n",
       "                                               Texto  \n",
       "0  O vereador abaixo firmado requer, após ouvido ...  \n",
       "1  A vereadora abaixo firmada requer, após ouvido...  \n",
       "2  O Vereador abaixo firmado requer, após ouvido ...  \n",
       "3  O vereador que está subscreve, no uso das atri...  "
      ]
     },
     "execution_count": 18,
     "metadata": {},
     "output_type": "execute_result"
    }
   ],
   "source": [
    "teste"
   ]
  },
  {
   "cell_type": "code",
   "execution_count": 19,
   "id": "ee4ef328",
   "metadata": {},
   "outputs": [
    {
     "data": {
      "text/plain": [
       "Index(['Reunião', 'Deliberação', 'Situação', 'Assunto', 'Autor', 'Proposição',\n",
       "       'Ano', 'Texto'],\n",
       "      dtype='object')"
      ]
     },
     "execution_count": 19,
     "metadata": {},
     "output_type": "execute_result"
    }
   ],
   "source": [
    "teste.columns"
   ]
  },
  {
   "cell_type": "code",
   "execution_count": 20,
   "id": "5ce82801",
   "metadata": {},
   "outputs": [
    {
     "data": {
      "text/plain": [
       "Reunião        object\n",
       "Deliberação    object\n",
       "Situação       object\n",
       "Assunto        object\n",
       "Autor          object\n",
       "Proposição      int64\n",
       "Ano             int64\n",
       "Texto          object\n",
       "dtype: object"
      ]
     },
     "execution_count": 20,
     "metadata": {},
     "output_type": "execute_result"
    }
   ],
   "source": [
    "teste.dtypes"
   ]
  },
  {
   "cell_type": "markdown",
   "id": "6342ca70",
   "metadata": {},
   "source": [
    "# Inserindo na base de dados com SQL com atualização incremental"
   ]
  },
  {
   "cell_type": "code",
   "execution_count": null,
   "id": "56ad4d14",
   "metadata": {},
   "outputs": [],
   "source": []
  },
  {
   "cell_type": "code",
   "execution_count": null,
   "id": "ebb334a9",
   "metadata": {},
   "outputs": [],
   "source": []
  },
  {
   "cell_type": "code",
   "execution_count": null,
   "id": "db909256",
   "metadata": {},
   "outputs": [],
   "source": []
  },
  {
   "cell_type": "code",
   "execution_count": null,
   "id": "796d74df",
   "metadata": {},
   "outputs": [],
   "source": []
  },
  {
   "cell_type": "code",
   "execution_count": null,
   "id": "b3afc896",
   "metadata": {},
   "outputs": [],
   "source": []
  },
  {
   "cell_type": "code",
   "execution_count": null,
   "id": "d5577dbf",
   "metadata": {},
   "outputs": [],
   "source": []
  },
  {
   "cell_type": "code",
   "execution_count": null,
   "id": "67b3833a",
   "metadata": {},
   "outputs": [],
   "source": []
  }
 ],
 "metadata": {
  "kernelspec": {
   "display_name": "Python 3 (ipykernel)",
   "language": "python",
   "name": "python3"
  },
  "language_info": {
   "codemirror_mode": {
    "name": "ipython",
    "version": 3
   },
   "file_extension": ".py",
   "mimetype": "text/x-python",
   "name": "python",
   "nbconvert_exporter": "python",
   "pygments_lexer": "ipython3",
   "version": "3.9.13"
  }
 },
 "nbformat": 4,
 "nbformat_minor": 5
}
